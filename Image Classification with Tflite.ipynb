{
  "nbformat": 4,
  "nbformat_minor": 0,
  "metadata": {
    "colab": {
      "name": "Hidayah Husnul K_final_submission.ipynb",
      "provenance": [],
      "collapsed_sections": []
    },
    "kernelspec": {
      "name": "python3",
      "display_name": "Python 3"
    },
    "language_info": {
      "name": "python"
    },
    "accelerator": "GPU"
  },
  "cells": [
    {
      "cell_type": "markdown",
      "metadata": {
        "id": "b7_o-KB6YCBR"
      },
      "source": [
        "Name : Hidayah Husnul Khotimah | Username : hidayahhk | Email : hidayahhk@gmail.com"
      ]
    },
    {
      "cell_type": "code",
      "metadata": {
        "colab": {
          "base_uri": "https://localhost:8080/"
        },
        "id": "MSy4KiQD1wVC",
        "outputId": "462d0b81-25c4-4737-bfc6-1a806b90fe49"
      },
      "source": [
        "!wget --no-check-certificate \\\n",
        "  https://dicodingacademy.blob.core.windows.net/picodiploma/ml_pemula_academy/rockpaperscissors.zip \\\n",
        "  -O /tmp/rockpaperscissors.zip"
      ],
      "execution_count": 1,
      "outputs": [
        {
          "output_type": "stream",
          "text": [
            "--2021-07-13 21:19:18--  https://dicodingacademy.blob.core.windows.net/picodiploma/ml_pemula_academy/rockpaperscissors.zip\n",
            "Resolving dicodingacademy.blob.core.windows.net (dicodingacademy.blob.core.windows.net)... 52.239.197.36\n",
            "Connecting to dicodingacademy.blob.core.windows.net (dicodingacademy.blob.core.windows.net)|52.239.197.36|:443... connected.\n",
            "HTTP request sent, awaiting response... 200 OK\n",
            "Length: 322873683 (308M) [application/zip]\n",
            "Saving to: ‘/tmp/rockpaperscissors.zip’\n",
            "\n",
            "/tmp/rockpapersciss 100%[===================>] 307.92M  7.56MB/s    in 73s     \n",
            "\n",
            "2021-07-13 21:20:32 (4.21 MB/s) - ‘/tmp/rockpaperscissors.zip’ saved [322873683/322873683]\n",
            "\n"
          ],
          "name": "stdout"
        }
      ]
    },
    {
      "cell_type": "code",
      "metadata": {
        "id": "25Aa0gxb7oPl"
      },
      "source": [
        "import zipfile,os\n",
        "\n",
        "local_zip = '/tmp/rockpaperscissors.zip'\n",
        "zip_ref = zipfile.ZipFile(local_zip, 'r')\n",
        "zip_ref.extractall('/tmp')\n",
        "zip_ref.close()"
      ],
      "execution_count": 2,
      "outputs": []
    },
    {
      "cell_type": "code",
      "metadata": {
        "colab": {
          "base_uri": "https://localhost:8080/"
        },
        "id": "L0jZLwgFnXLY",
        "outputId": "41a5632f-1d5e-43d8-d843-cfd98928c099"
      },
      "source": [
        "! pip install split-folders"
      ],
      "execution_count": 3,
      "outputs": [
        {
          "output_type": "stream",
          "text": [
            "Collecting split-folders\n",
            "  Downloading https://files.pythonhosted.org/packages/b8/5f/3c2b2f7ea5e047c8cdc3bb00ae582c5438fcdbbedcc23b3cc1c2c7aae642/split_folders-0.4.3-py3-none-any.whl\n",
            "Installing collected packages: split-folders\n",
            "Successfully installed split-folders-0.4.3\n"
          ],
          "name": "stdout"
        }
      ]
    },
    {
      "cell_type": "code",
      "metadata": {
        "colab": {
          "base_uri": "https://localhost:8080/"
        },
        "id": "0moaQjF9LhFH",
        "outputId": "28316f7a-d819-4403-bcac-bbf1ee384d1f"
      },
      "source": [
        "import splitfolders \n",
        "\n",
        "splitfolders.ratio('/tmp/rockpaperscissors/rps-cv-images', output=\"/tmp/rockpaperscissors/rps-cv-images/dataset-output\", seed=42, ratio=(0.8,0.2), group_prefix=None)"
      ],
      "execution_count": 4,
      "outputs": [
        {
          "output_type": "stream",
          "text": [
            "Copying files: 2188 files [00:00, 3529.94 files/s]\n"
          ],
          "name": "stderr"
        }
      ]
    },
    {
      "cell_type": "code",
      "metadata": {
        "id": "WuYVOLGAQEqI"
      },
      "source": [
        "base_dir_new = '/tmp/rockpaperscissors/rps-cv-images/dataset-output'\n",
        "train_dir_new = os.path.join(base_dir_new,'train')\n",
        "validation_dir_new = os.path.join(base_dir_new, 'val')"
      ],
      "execution_count": 5,
      "outputs": []
    },
    {
      "cell_type": "code",
      "metadata": {
        "id": "I6K-43wbQP5a"
      },
      "source": [
        "from tensorflow.keras.preprocessing.image import ImageDataGenerator\n",
        " \n",
        "train_datagen = ImageDataGenerator(\n",
        "                    rescale=1./255,\n",
        "                    rotation_range=20,\n",
        "                    horizontal_flip=True,\n",
        "                    shear_range = 0.2,\n",
        "                    fill_mode = 'nearest')\n",
        " \n",
        "test_datagen = ImageDataGenerator(\n",
        "                    rescale=1./255,\n",
        "                    rotation_range=20,\n",
        "                    horizontal_flip=True,\n",
        "                    shear_range = 0.2,\n",
        "                    fill_mode = 'nearest')"
      ],
      "execution_count": 6,
      "outputs": []
    },
    {
      "cell_type": "code",
      "metadata": {
        "colab": {
          "base_uri": "https://localhost:8080/"
        },
        "id": "d520H6CUQVbz",
        "outputId": "c6bcbc92-2b65-41b6-fb95-cd32e3c58259"
      },
      "source": [
        "train_generator = train_datagen.flow_from_directory(\n",
        "        train_dir_new,\n",
        "        target_size=(150, 150),\n",
        "        batch_size=32,\n",
        "        class_mode='categorical')\n",
        " \n",
        "validation_generator = test_datagen.flow_from_directory(\n",
        "        validation_dir_new,\n",
        "        target_size=(150, 150),\n",
        "        batch_size=32,\n",
        "        class_mode='categorical')"
      ],
      "execution_count": 7,
      "outputs": [
        {
          "output_type": "stream",
          "text": [
            "Found 1749 images belonging to 3 classes.\n",
            "Found 439 images belonging to 3 classes.\n"
          ],
          "name": "stdout"
        }
      ]
    },
    {
      "cell_type": "code",
      "metadata": {
        "id": "o5h9s2VGQc4p"
      },
      "source": [
        "import tensorflow as tf\n",
        "\n",
        "model = tf.keras.models.Sequential([\n",
        "    tf.keras.layers.Conv2D(32, (3,3), activation='relu', input_shape=(150, 150, 3)),\n",
        "    tf.keras.layers.MaxPooling2D(2, 2),\n",
        "    tf.keras.layers.Conv2D(64, (3,3), activation='relu'),\n",
        "    tf.keras.layers.MaxPooling2D(2,2),\n",
        "    tf.keras.layers.Conv2D(128, (3,3), activation='relu'),\n",
        "    tf.keras.layers.MaxPooling2D(2,2),\n",
        "    tf.keras.layers.Conv2D(128, (3,3), activation='relu'),\n",
        "    tf.keras.layers.MaxPooling2D(2,2),\n",
        "    tf.keras.layers.Flatten(),\n",
        "    tf.keras.layers.Dense(512, activation='relu'),\n",
        "    tf.keras.layers.Dense(3, activation='sigmoid')\n",
        "])"
      ],
      "execution_count": 8,
      "outputs": []
    },
    {
      "cell_type": "code",
      "metadata": {
        "id": "UzTeZtJbQgYq"
      },
      "source": [
        "initial_learning_rate = 0.01\n",
        "epochs = 50\n",
        "decay = initial_learning_rate / epochs\n",
        "\n",
        "def lr_time_based_decay(epoch, lr):\n",
        "    return lr * 1 / (1 + decay * epoch)"
      ],
      "execution_count": 9,
      "outputs": []
    },
    {
      "cell_type": "code",
      "metadata": {
        "id": "LbrBPkR2Qjrc"
      },
      "source": [
        "model.compile(loss='categorical_crossentropy',\n",
        "              optimizer=tf.keras.optimizers.RMSprop(),\n",
        "              metrics=['accuracy'])"
      ],
      "execution_count": 10,
      "outputs": []
    },
    {
      "cell_type": "code",
      "metadata": {
        "colab": {
          "base_uri": "https://localhost:8080/"
        },
        "id": "R9-ItUzCQtfI",
        "outputId": "0fd1e593-7980-4216-d44c-ae37985ecb6f"
      },
      "source": [
        "history = model.fit(\n",
        "      train_generator,\n",
        "      steps_per_epoch=25,\n",
        "      epochs=50,\n",
        "      validation_data=validation_generator,\n",
        "      validation_steps=5,\n",
        "      callbacks=[tf.keras.callbacks.LearningRateScheduler(lr_time_based_decay, verbose=2)])"
      ],
      "execution_count": 11,
      "outputs": [
        {
          "output_type": "stream",
          "text": [
            "Epoch 1/50\n",
            "\n",
            "Epoch 00001: LearningRateScheduler reducing learning rate to 0.0010000000474974513.\n",
            "25/25 [==============================] - 41s 2s/step - loss: 1.3900 - accuracy: 0.3663 - val_loss: 1.0889 - val_accuracy: 0.3750\n",
            "Epoch 2/50\n",
            "\n",
            "Epoch 00002: LearningRateScheduler reducing learning rate to 0.0009998000874799553.\n",
            "25/25 [==============================] - 40s 2s/step - loss: 1.0583 - accuracy: 0.4737 - val_loss: 1.3712 - val_accuracy: 0.3625\n",
            "Epoch 3/50\n",
            "\n",
            "Epoch 00003: LearningRateScheduler reducing learning rate to 0.0009994002858602087.\n",
            "25/25 [==============================] - 39s 2s/step - loss: 0.7106 - accuracy: 0.7085 - val_loss: 0.5082 - val_accuracy: 0.8188\n",
            "Epoch 4/50\n",
            "\n",
            "Epoch 00004: LearningRateScheduler reducing learning rate to 0.0009988009951623015.\n",
            "25/25 [==============================] - 39s 2s/step - loss: 0.4058 - accuracy: 0.8504 - val_loss: 0.2943 - val_accuracy: 0.9000\n",
            "Epoch 5/50\n",
            "\n",
            "Epoch 00005: LearningRateScheduler reducing learning rate to 0.0009980025676285312.\n",
            "25/25 [==============================] - 39s 2s/step - loss: 0.3352 - accuracy: 0.8796 - val_loss: 0.4435 - val_accuracy: 0.8438\n",
            "Epoch 6/50\n",
            "\n",
            "Epoch 00006: LearningRateScheduler reducing learning rate to 0.0009970055878177272.\n",
            "25/25 [==============================] - 39s 2s/step - loss: 0.3068 - accuracy: 0.8910 - val_loss: 0.8618 - val_accuracy: 0.6500\n",
            "Epoch 7/50\n",
            "\n",
            "Epoch 00007: LearningRateScheduler reducing learning rate to 0.000995810639821633.\n",
            "25/25 [==============================] - 39s 2s/step - loss: 0.5006 - accuracy: 0.8700 - val_loss: 0.2532 - val_accuracy: 0.9187\n",
            "Epoch 8/50\n",
            "\n",
            "Epoch 00008: LearningRateScheduler reducing learning rate to 0.0009944184235179403.\n",
            "25/25 [==============================] - 39s 2s/step - loss: 0.1949 - accuracy: 0.9354 - val_loss: 0.2975 - val_accuracy: 0.9187\n",
            "Epoch 9/50\n",
            "\n",
            "Epoch 00009: LearningRateScheduler reducing learning rate to 0.0009928298706840426.\n",
            "25/25 [==============================] - 39s 2s/step - loss: 0.1624 - accuracy: 0.9337 - val_loss: 0.1151 - val_accuracy: 0.9750\n",
            "Epoch 10/50\n",
            "\n",
            "Epoch 00010: LearningRateScheduler reducing learning rate to 0.0009910460285594016.\n",
            "25/25 [==============================] - 39s 2s/step - loss: 0.1605 - accuracy: 0.9404 - val_loss: 0.1656 - val_accuracy: 0.9563\n",
            "Epoch 11/50\n",
            "\n",
            "Epoch 00011: LearningRateScheduler reducing learning rate to 0.0009890679435473598.\n",
            "25/25 [==============================] - 39s 2s/step - loss: 0.1622 - accuracy: 0.9404 - val_loss: 0.0461 - val_accuracy: 0.9812\n",
            "Epoch 12/50\n",
            "\n",
            "Epoch 00012: LearningRateScheduler reducing learning rate to 0.0009868967773757446.\n",
            "25/25 [==============================] - 39s 2s/step - loss: 0.1727 - accuracy: 0.9413 - val_loss: 0.1347 - val_accuracy: 0.9563\n",
            "Epoch 13/50\n",
            "\n",
            "Epoch 00013: LearningRateScheduler reducing learning rate to 0.0009845339231184147.\n",
            "25/25 [==============================] - 39s 2s/step - loss: 0.1488 - accuracy: 0.9506 - val_loss: 0.1283 - val_accuracy: 0.9688\n",
            "Epoch 14/50\n",
            "\n",
            "Epoch 00014: LearningRateScheduler reducing learning rate to 0.0009819807727376596.\n",
            "25/25 [==============================] - 39s 2s/step - loss: 0.1277 - accuracy: 0.9563 - val_loss: 0.0757 - val_accuracy: 0.9688\n",
            "Epoch 15/50\n",
            "\n",
            "Epoch 00015: LearningRateScheduler reducing learning rate to 0.0009792389492658468.\n",
            "25/25 [==============================] - 39s 2s/step - loss: 0.0984 - accuracy: 0.9675 - val_loss: 0.1594 - val_accuracy: 0.9438\n",
            "Epoch 16/50\n",
            "\n",
            "Epoch 00016: LearningRateScheduler reducing learning rate to 0.0009763100744408007.\n",
            "25/25 [==============================] - 39s 2s/step - loss: 0.0884 - accuracy: 0.9759 - val_loss: 0.0257 - val_accuracy: 0.9937\n",
            "Epoch 17/50\n",
            "\n",
            "Epoch 00017: LearningRateScheduler reducing learning rate to 0.0009731958267290851.\n",
            "25/25 [==============================] - 39s 2s/step - loss: 0.0729 - accuracy: 0.9787 - val_loss: 0.1059 - val_accuracy: 0.9625\n",
            "Epoch 18/50\n",
            "\n",
            "Epoch 00018: LearningRateScheduler reducing learning rate to 0.0009698981733111679.\n",
            "25/25 [==============================] - 39s 2s/step - loss: 0.1316 - accuracy: 0.9518 - val_loss: 0.1668 - val_accuracy: 0.9563\n",
            "Epoch 19/50\n",
            "\n",
            "Epoch 00019: LearningRateScheduler reducing learning rate to 0.0009664190797994173.\n",
            "25/25 [==============================] - 39s 2s/step - loss: 0.1499 - accuracy: 0.9620 - val_loss: 0.2020 - val_accuracy: 0.9438\n",
            "Epoch 20/50\n",
            "\n",
            "Epoch 00020: LearningRateScheduler reducing learning rate to 0.0009627605682269739.\n",
            "25/25 [==============================] - 39s 2s/step - loss: 0.0795 - accuracy: 0.9725 - val_loss: 0.0884 - val_accuracy: 0.9625\n",
            "Epoch 21/50\n",
            "\n",
            "Epoch 00021: LearningRateScheduler reducing learning rate to 0.0009589248909188279.\n",
            "25/25 [==============================] - 39s 2s/step - loss: 0.0624 - accuracy: 0.9785 - val_loss: 0.1902 - val_accuracy: 0.9375\n",
            "Epoch 22/50\n",
            "\n",
            "Epoch 00022: LearningRateScheduler reducing learning rate to 0.0009549142404414344.\n",
            "25/25 [==============================] - 39s 2s/step - loss: 0.0516 - accuracy: 0.9848 - val_loss: 0.0675 - val_accuracy: 0.9688\n",
            "Epoch 23/50\n",
            "\n",
            "Epoch 00023: LearningRateScheduler reducing learning rate to 0.0009507310394255563.\n",
            "25/25 [==============================] - 39s 2s/step - loss: 0.0784 - accuracy: 0.9800 - val_loss: 0.0673 - val_accuracy: 0.9750\n",
            "Epoch 24/50\n",
            "\n",
            "Epoch 00024: LearningRateScheduler reducing learning rate to 0.0009463777085727261.\n",
            "25/25 [==============================] - 39s 2s/step - loss: 0.0794 - accuracy: 0.9785 - val_loss: 0.0912 - val_accuracy: 0.9812\n",
            "Epoch 25/50\n",
            "\n",
            "Epoch 00025: LearningRateScheduler reducing learning rate to 0.0009418567825163638.\n",
            "25/25 [==============================] - 39s 2s/step - loss: 0.0300 - accuracy: 0.9912 - val_loss: 0.0716 - val_accuracy: 0.9812\n",
            "Epoch 26/50\n",
            "\n",
            "Epoch 00026: LearningRateScheduler reducing learning rate to 0.0009371709097084122.\n",
            "25/25 [==============================] - 39s 2s/step - loss: 0.0719 - accuracy: 0.9747 - val_loss: 0.3314 - val_accuracy: 0.8562\n",
            "Epoch 27/50\n",
            "\n",
            "Epoch 00027: LearningRateScheduler reducing learning rate to 0.0009323228523061064.\n",
            "25/25 [==============================] - 39s 2s/step - loss: 0.0759 - accuracy: 0.9812 - val_loss: 0.0612 - val_accuracy: 0.9812\n",
            "Epoch 28/50\n",
            "\n",
            "Epoch 00028: LearningRateScheduler reducing learning rate to 0.0009273153702688248.\n",
            "25/25 [==============================] - 39s 2s/step - loss: 0.0665 - accuracy: 0.9785 - val_loss: 0.0906 - val_accuracy: 0.9812\n",
            "Epoch 29/50\n",
            "\n",
            "Epoch 00029: LearningRateScheduler reducing learning rate to 0.0009221513371272998.\n",
            "25/25 [==============================] - 39s 2s/step - loss: 0.0190 - accuracy: 0.9950 - val_loss: 0.0135 - val_accuracy: 0.9937\n",
            "Epoch 30/50\n",
            "\n",
            "Epoch 00030: LearningRateScheduler reducing learning rate to 0.0009168336819986992.\n",
            "25/25 [==============================] - 39s 2s/step - loss: 0.0574 - accuracy: 0.9835 - val_loss: 0.1017 - val_accuracy: 0.9688\n",
            "Epoch 31/50\n",
            "\n",
            "Epoch 00031: LearningRateScheduler reducing learning rate to 0.0009113655052523668.\n",
            "25/25 [==============================] - 39s 2s/step - loss: 0.0306 - accuracy: 0.9900 - val_loss: 0.0128 - val_accuracy: 0.9937\n",
            "Epoch 32/50\n",
            "\n",
            "Epoch 00032: LearningRateScheduler reducing learning rate to 0.0009057498469436365.\n",
            "25/25 [==============================] - 39s 2s/step - loss: 0.0529 - accuracy: 0.9835 - val_loss: 0.0491 - val_accuracy: 0.9812\n",
            "Epoch 33/50\n",
            "\n",
            "Epoch 00033: LearningRateScheduler reducing learning rate to 0.0008999899182237673.\n",
            "25/25 [==============================] - 39s 2s/step - loss: 0.0618 - accuracy: 0.9837 - val_loss: 0.0505 - val_accuracy: 0.9812\n",
            "Epoch 34/50\n",
            "\n",
            "Epoch 00034: LearningRateScheduler reducing learning rate to 0.0008940889276919404.\n",
            "25/25 [==============================] - 39s 2s/step - loss: 0.0194 - accuracy: 0.9912 - val_loss: 0.2263 - val_accuracy: 0.9500\n",
            "Epoch 35/50\n",
            "\n",
            "Epoch 00035: LearningRateScheduler reducing learning rate to 0.0008880501970268393.\n",
            "25/25 [==============================] - 38s 2s/step - loss: 0.0401 - accuracy: 0.9886 - val_loss: 0.0483 - val_accuracy: 0.9750\n",
            "Epoch 36/50\n",
            "\n",
            "Epoch 00036: LearningRateScheduler reducing learning rate to 0.0008818770452682762.\n",
            "25/25 [==============================] - 39s 2s/step - loss: 0.0394 - accuracy: 0.9850 - val_loss: 0.1229 - val_accuracy: 0.9438\n",
            "Epoch 37/50\n",
            "\n",
            "Epoch 00037: LearningRateScheduler reducing learning rate to 0.0008755729044029359.\n",
            "25/25 [==============================] - 39s 2s/step - loss: 0.0171 - accuracy: 0.9899 - val_loss: 0.1391 - val_accuracy: 0.9812\n",
            "Epoch 38/50\n",
            "\n",
            "Epoch 00038: LearningRateScheduler reducing learning rate to 0.0008691412614721709.\n",
            "25/25 [==============================] - 39s 2s/step - loss: 0.0080 - accuracy: 0.9975 - val_loss: 0.5396 - val_accuracy: 0.9187\n",
            "Epoch 39/50\n",
            "\n",
            "Epoch 00039: LearningRateScheduler reducing learning rate to 0.0008625856007487409.\n",
            "25/25 [==============================] - 39s 2s/step - loss: 0.0513 - accuracy: 0.9911 - val_loss: 0.0273 - val_accuracy: 0.9937\n",
            "Epoch 40/50\n",
            "\n",
            "Epoch 00040: LearningRateScheduler reducing learning rate to 0.000855909519253872.\n",
            "25/25 [==============================] - 39s 2s/step - loss: 0.0266 - accuracy: 0.9911 - val_loss: 0.1507 - val_accuracy: 0.9625\n",
            "Epoch 41/50\n",
            "\n",
            "Epoch 00041: LearningRateScheduler reducing learning rate to 0.0008491166111540109.\n",
            "25/25 [==============================] - 39s 2s/step - loss: 0.0801 - accuracy: 0.9825 - val_loss: 0.1501 - val_accuracy: 0.9688\n",
            "Epoch 42/50\n",
            "\n",
            "Epoch 00042: LearningRateScheduler reducing learning rate to 0.0008422104677636575.\n",
            "25/25 [==============================] - 38s 2s/step - loss: 0.0266 - accuracy: 0.9937 - val_loss: 0.0086 - val_accuracy: 0.9937\n",
            "Epoch 43/50\n",
            "\n",
            "Epoch 00043: LearningRateScheduler reducing learning rate to 0.0008351948507165611.\n",
            "25/25 [==============================] - 39s 2s/step - loss: 0.0032 - accuracy: 0.9987 - val_loss: 0.0305 - val_accuracy: 0.9937\n",
            "Epoch 44/50\n",
            "\n",
            "Epoch 00044: LearningRateScheduler reducing learning rate to 0.0008280734032401367.\n",
            "25/25 [==============================] - 39s 2s/step - loss: 0.0446 - accuracy: 0.9900 - val_loss: 0.0991 - val_accuracy: 0.9812\n",
            "Epoch 45/50\n",
            "\n",
            "Epoch 00045: LearningRateScheduler reducing learning rate to 0.0008208499387723471.\n",
            "25/25 [==============================] - 39s 2s/step - loss: 0.0275 - accuracy: 0.9924 - val_loss: 0.0496 - val_accuracy: 0.9937\n",
            "Epoch 46/50\n",
            "\n",
            "Epoch 00046: LearningRateScheduler reducing learning rate to 0.0008135282100391519.\n",
            "25/25 [==============================] - 39s 2s/step - loss: 0.0291 - accuracy: 0.9900 - val_loss: 0.1382 - val_accuracy: 0.9937\n",
            "Epoch 47/50\n",
            "\n",
            "Epoch 00047: LearningRateScheduler reducing learning rate to 0.0008061119667916981.\n",
            "25/25 [==============================] - 39s 2s/step - loss: 0.0042 - accuracy: 0.9975 - val_loss: 0.2064 - val_accuracy: 0.9625\n",
            "Epoch 48/50\n",
            "\n",
            "Epoch 00048: LearningRateScheduler reducing learning rate to 0.0007986050711404764.\n",
            "25/25 [==============================] - 39s 2s/step - loss: 0.0051 - accuracy: 0.9975 - val_loss: 0.0842 - val_accuracy: 0.9750\n",
            "Epoch 49/50\n",
            "\n",
            "Epoch 00049: LearningRateScheduler reducing learning rate to 0.0007910113821356674.\n",
            "25/25 [==============================] - 38s 2s/step - loss: 0.0277 - accuracy: 0.9949 - val_loss: 1.9434e-04 - val_accuracy: 1.0000\n",
            "Epoch 50/50\n",
            "\n",
            "Epoch 00050: LearningRateScheduler reducing learning rate to 0.0007833346981274111.\n",
            "25/25 [==============================] - 38s 2s/step - loss: 0.0043 - accuracy: 0.9987 - val_loss: 0.0524 - val_accuracy: 0.9812\n"
          ],
          "name": "stdout"
        }
      ]
    },
    {
      "cell_type": "code",
      "metadata": {
        "colab": {
          "base_uri": "https://localhost:8080/",
          "height": 336
        },
        "id": "FscOHy9-R3Dk",
        "outputId": "92b128a4-d5e7-4827-ba98-07b67c976c31"
      },
      "source": [
        "import matplotlib.pyplot as plt\n",
        "\n",
        "acc = history.history['accuracy']\n",
        "val_acc = history.history['val_accuracy']\n",
        "loss = history.history['loss']\n",
        "val_loss = history.history['val_loss']\n",
        "epochs_range = range(len(acc))\n",
        "\n",
        "plt.figure(figsize=(13, 5))\n",
        "plt.subplot(1, 2, 1)\n",
        "plt.plot(epochs_range, acc, label='Training Accuracy')\n",
        "plt.plot(epochs_range, val_acc, label='Validation Accuracy')\n",
        "plt.legend(loc='lower right')\n",
        "plt.title('Accuracy')\n",
        "\n",
        "plt.subplot(1, 2, 2)\n",
        "plt.plot(epochs_range, loss, label='Training Loss')\n",
        "plt.plot(epochs_range, val_loss, label='Validation Loss')\n",
        "plt.legend(loc='upper right')\n",
        "plt.title('Loss')\n",
        "plt.show()"
      ],
      "execution_count": 12,
      "outputs": [
        {
          "output_type": "display_data",
          "data": {
            "image/png": "[encoded data removed]",
            "text/plain": [
              "<Figure size 936x360 with 2 Axes>"
            ]
          },
          "metadata": {
            "tags": [],
            "needs_background": "light"
          }
        }
      ]
    },
    {
      "cell_type": "code",
      "metadata": {
        "colab": {
          "base_uri": "https://localhost:8080/"
        },
        "id": "0vhrMnnKR78Z",
        "outputId": "29c0e746-7d9c-4c49-81ba-36db4fd2bb85"
      },
      "source": [
        "converter = tf.lite.TFLiteConverter.from_keras_model(model)\n",
        "tflite_model = converter.convert()"
      ],
      "execution_count": 13,
      "outputs": [
        {
          "output_type": "stream",
          "text": [
            "INFO:tensorflow:Assets written to: /tmp/tmpnyn40c4i/assets\n"
          ],
          "name": "stdout"
        }
      ]
    },
    {
      "cell_type": "code",
      "metadata": {
        "id": "d8fh604q1jEq"
      },
      "source": [
        "with tf.io.gfile.GFile('image-model.tflite', 'wb') as f:\n",
        "  f.write(tflite_model)"
      ],
      "execution_count": 16,
      "outputs": []
    }
  ]
}